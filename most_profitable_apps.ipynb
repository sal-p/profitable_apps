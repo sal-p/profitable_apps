{
 "cells": [
  {
   "cell_type": "markdown",
   "metadata": {},
   "source": [
    "# Mobile Apps Analysis for Advertising Insights\n",
    "\n",
    "In the following program, we will analyze multiple aspects of a collection of mobile phone applications to understand which apps generate the most user interest and why.\n",
    "\n",
    "We'll also try to learn the information surrounding in-apps adds and work to find out the types of apps that yield the highest percentage of user engagements with these adds.\n",
    "\n",
    "\n",
    "\n"
   ]
  },
  {
   "cell_type": "markdown",
   "metadata": {},
   "source": [
    "**Opening File**"
   ]
  },
  {
   "cell_type": "code",
   "execution_count": 2,
   "metadata": {
    "collapsed": false
   },
   "outputs": [
    {
     "name": "stdout",
     "output_type": "stream",
     "text": [
      "Length of raw datasets:\n",
      "as: 7198\n",
      "ps: 10842\n",
      "columns in apple dataset: ['id', 'track_name', 'size_bytes', 'currency', 'price', 'rating_count_tot', 'rating_count_ver', 'user_rating', 'user_rating_ver', 'ver', 'cont_rating', 'prime_genre', 'sup_devices.num', 'ipadSc_urls.num', 'lang.num', 'vpp_lic']\n",
      "\n",
      "\n",
      "columns in playstore dataset: ['id', 'track_name', 'size_bytes', 'currency', 'price', 'rating_count_tot', 'rating_count_ver', 'user_rating', 'user_rating_ver', 'ver', 'cont_rating', 'prime_genre', 'sup_devices.num', 'ipadSc_urls.num', 'lang.num', 'vpp_lic']\n",
      "\n",
      "\n",
      "7197\n",
      "10841\n"
     ]
    }
   ],
   "source": [
    "opened_file1 = open('AppleStore.csv')\n",
    "opened_file2 = open('googleplaystore.csv')\n",
    "\n",
    "from csv import reader\n",
    "\n",
    "read_file1 = reader(opened_file1)\n",
    "read_file2 = reader(opened_file2)\n",
    "\n",
    "ds_as_org = list(read_file1)\n",
    "ds_ps_org = list(read_file2)\n",
    "\n",
    "print('Length of raw datasets:')\n",
    "print('as:', len(ds_as_org))\n",
    "print('ps:', len(ds_ps_org))\n",
    "\n",
    "print('columns in apple dataset:', ds_as_org[0])\n",
    "print('\\n')\n",
    "print('columns in playstore dataset:', ds_as_org[0])\n",
    "\n",
    "ds_as = ds_as_org[1:]\n",
    "ds_ps = ds_ps_org[1:]\n",
    "\n",
    "print('\\n')\n",
    "\n",
    "print(len(ds_as))\n",
    "print(len(ds_ps))\n"
   ]
  },
  {
   "cell_type": "code",
   "execution_count": 3,
   "metadata": {
    "collapsed": false
   },
   "outputs": [
    {
     "name": "stdout",
     "output_type": "stream",
     "text": [
      "['Photo Editor & Candy Camera & Grid & ScrapBook', 'ART_AND_DESIGN', '4.1', '159', '19M', '10,000+', 'Free', '0', 'Everyone', 'Art & Design', 'January 7, 2018', '1.0.0', '4.0.3 and up']\n",
      "\n",
      "\n",
      "['Coloring book moana', 'ART_AND_DESIGN', '3.9', '967', '14M', '500,000+', 'Free', '0', 'Everyone', 'Art & Design;Pretend Play', 'January 15, 2018', '2.0.0', '4.0.3 and up']\n",
      "\n",
      "\n",
      "['U Launcher Lite – FREE Live Cool Themes, Hide Apps', 'ART_AND_DESIGN', '4.7', '87510', '8.7M', '5,000,000+', 'Free', '0', 'Everyone', 'Art & Design', 'August 1, 2018', '1.2.4', '4.0.3 and up']\n",
      "\n",
      "\n",
      "\n",
      "\n",
      "['284882215', 'Facebook', '389879808', 'USD', '0.0', '2974676', '212', '3.5', '3.5', '95.0', '4+', 'Social Networking', '37', '1', '29', '1']\n",
      "\n",
      "\n",
      "['389801252', 'Instagram', '113954816', 'USD', '0.0', '2161558', '1289', '4.5', '4.0', '10.23', '12+', 'Photo & Video', '37', '0', '29', '1']\n",
      "\n",
      "\n",
      "['529479190', 'Clash of Clans', '116476928', 'USD', '0.0', '2130805', '579', '4.5', '4.5', '9.24.12', '9+', 'Games', '38', '5', '18', '1']\n",
      "\n",
      "\n"
     ]
    }
   ],
   "source": [
    "def explore_data(dataset, start, end, rows_and_columns=False):\n",
    "    sliced_dataset = dataset[start:end]\n",
    "    \n",
    "    for row in sliced_dataset:\n",
    "        print(row)\n",
    "        print('\\n')\n",
    "        \n",
    "    if rows_and_columns == True:\n",
    "        print('number of rows:', len(dataset))\n",
    "        print('number of columns:', len(dataset[0]))\n",
    "\n",
    "explore_data(ds_ps, 0, 3)\n",
    "\n",
    "print('\\n')\n",
    "\n",
    "explore_data(ds_as, 0, 3)"
   ]
  },
  {
   "cell_type": "markdown",
   "metadata": {},
   "source": [
    "**A brief description of columns:**\n",
    "\n",
    "Here's a table describing what each column heading in apple apps datasets means,\n"
   ]
  },
  {
   "cell_type": "markdown",
   "metadata": {},
   "source": [
    "| Header | Description |\n",
    "|:---------:|:-------------|\n",
    "|App | Tells the name of the name \n",
    "|Category | the category it belongs to\n",
    "|Rating | average rating app has recieved |\n",
    "|Reviews | how many reviews the app has recieved |\n",
    "|Size | the size app takes on your pc in mbs or gb |\n",
    "|Installs | the times app has been installed |\n",
    "|Type | type of the app |\n",
    "| Price | how much does it cost |\n",
    "|Content Rating | the minimum age of user for which the app is suitable |\n",
    "| Genres | what is the app's genre |\n",
    "| Last updated | when did the app recieved its last update |\n",
    "| Version | the current version of the app |\n",
    "| Android Version | android version app is suitable for |"
   ]
  },
  {
   "cell_type": "markdown",
   "metadata": {},
   "source": [
    "Below, a table describes what each column heading in apple apps datasets means,"
   ]
  },
  {
   "cell_type": "markdown",
   "metadata": {},
   "source": [
    "| Header | Description |\n",
    "|:---------:|:-------------|\n",
    "|id | numerical designation of the app \n",
    "|track_name | name of the app\n",
    "|size_bytes | total size app takes up on phone |\n",
    "|currency | currency app is priced in |\n",
    "|price | total price of the app |\n",
    "|rating_count_tot | total rating app has recieved |\n",
    "|rating_count_ver | no idea |\n",
    "| user_rating | average user rating this app has recievd |\n",
    "| user_rating_ver | to be deciphered |\n",
    "| ver | app's current version |\n",
    "| cont_rating | the minimum suitable age to use app |\n",
    "| prime_genre | the genre of the app |\n",
    "| sup_devices.num | no idea |\n",
    "| ipadSc_urls.num | placeholder\n",
    "| lang.num | ph2\n",
    "| vpp_lic | huhhhhh?"
   ]
  },
  {
   "cell_type": "code",
   "execution_count": 4,
   "metadata": {
    "collapsed": false
   },
   "outputs": [
    {
     "name": "stdout",
     "output_type": "stream",
     "text": [
      "16\n"
     ]
    }
   ],
   "source": [
    "print(len(ds_as[0]))"
   ]
  },
  {
   "cell_type": "markdown",
   "metadata": {},
   "source": [
    "We'll now review the data from apple and play store to see if any row has wrong or duplicate entries.\n",
    "\n",
    "From our review, we came to see that entry 10473 had it's category info missing, causing subsequent values to shift one step to the left, as illustrated below."
   ]
  },
  {
   "cell_type": "code",
   "execution_count": 5,
   "metadata": {
    "collapsed": false,
    "scrolled": true
   },
   "outputs": [
    {
     "name": "stdout",
     "output_type": "stream",
     "text": [
      "['App', 'Category', 'Rating', 'Reviews', 'Size', 'Installs', 'Type', 'Price', 'Content Rating', 'Genres', 'Last Updated', 'Current Ver', 'Android Ver']\n",
      "\n",
      "\n",
      "['Life Made WI-Fi Touchscreen Photo Frame', '1.9', '19', '3.0M', '1,000+', 'Free', '0', 'Everyone', '', 'February 11, 2018', '1.0.19', '4.0 and up']\n"
     ]
    }
   ],
   "source": [
    "print(ds_ps_org[0])\n",
    "print('\\n')\n",
    "print(ds_ps[10472]) "
   ]
  },
  {
   "cell_type": "markdown",
   "metadata": {},
   "source": [
    "\n",
    "\n",
    "We will therefore delete this row."
   ]
  },
  {
   "cell_type": "code",
   "execution_count": 6,
   "metadata": {
    "collapsed": false,
    "scrolled": true
   },
   "outputs": [
    {
     "name": "stdout",
     "output_type": "stream",
     "text": [
      "\n",
      " Total entries now in play store data set:  10840\n"
     ]
    }
   ],
   "source": [
    "del ds_ps[10472]\n",
    "print('\\n', 'Total entries now in play store data set: ', len(ds_ps))"
   ]
  },
  {
   "cell_type": "markdown",
   "metadata": {},
   "source": [
    "We'll now probe Apple Store apps dataset to see if it has any wrong entries.\n",
    "\n",
    "This dataset appears to be free of errors, so we'll use it in its orignal state. "
   ]
  },
  {
   "cell_type": "markdown",
   "metadata": {
    "collapsed": true
   },
   "source": [
    "**Checking & Removing Duplicates**\n",
    "\n",
    "Now, we'll scan both datasets to see whether they have duplicate entries - if there're any, we'll develop a standard to lay out which entries must be removed. \n",
    "\n",
    "-------------"
   ]
  },
  {
   "cell_type": "markdown",
   "metadata": {},
   "source": [
    "\n",
    "*For Apple Store Apps*"
   ]
  },
  {
   "cell_type": "code",
   "execution_count": 7,
   "metadata": {
    "collapsed": false
   },
   "outputs": [
    {
     "name": "stdout",
     "output_type": "stream",
     "text": [
      "[['Photo Editor & Candy Camera & Grid & ScrapBook', 'ART_AND_DESIGN', '4.1', '159', '19M', '10,000+', 'Free', '0', 'Everyone', 'Art & Design', 'January 7, 2018', '1.0.0', '4.0.3 and up'], ['Coloring book moana', 'ART_AND_DESIGN', '3.9', '967', '14M', '500,000+', 'Free', '0', 'Everyone', 'Art & Design;Pretend Play', 'January 15, 2018', '2.0.0', '4.0.3 and up']]\n"
     ]
    }
   ],
   "source": [
    "print(ds_ps[:2])"
   ]
  },
  {
   "cell_type": "code",
   "execution_count": 8,
   "metadata": {
    "collapsed": false
   },
   "outputs": [],
   "source": [
    "def duplicate_finder(dataset):\n",
    "    \n",
    "    unique_apps = []\n",
    "    redundant_apps = []\n",
    "    \n",
    "    for row in dataset:\n",
    "        name = row[0]\n",
    "\n",
    "        if name in unique_apps:\n",
    "            redundant_apps.append(name)\n",
    "        else:\n",
    "            unique_apps.append(name)\n",
    "        \n",
    "    return len(redundant_apps)\n"
   ]
  },
  {
   "cell_type": "markdown",
   "metadata": {},
   "source": [
    "---------------------\n",
    "\n",
    "**No. of redundant entries:**\n"
   ]
  },
  {
   "cell_type": "code",
   "execution_count": 9,
   "metadata": {
    "collapsed": false,
    "scrolled": true
   },
   "outputs": [
    {
     "name": "stdout",
     "output_type": "stream",
     "text": [
      "play store: 1181\n",
      "apple store:  0\n"
     ]
    }
   ],
   "source": [
    "print('play store:', duplicate_finder(ds_ps))\n",
    "print('apple store: ',duplicate_finder(ds_as))"
   ]
  },
  {
   "cell_type": "markdown",
   "metadata": {},
   "source": [
    "We now know that playstore dataset has 1181 redundant apps, so we'll write a code to eliminate all the repeating entries and keep only one for each app in our dataset.\n",
    "\n",
    "To decide which entry to keep, we'll see the reviews assosisated with each one to judge which one is the newest. The entry with most reviews is expected to be the latest. \n"
   ]
  },
  {
   "cell_type": "code",
   "execution_count": 10,
   "metadata": {
    "collapsed": false
   },
   "outputs": [
    {
     "name": "stdout",
     "output_type": "stream",
     "text": [
      "Expected no. of apps:  9659\n",
      "\n",
      "\n",
      "Actual no. of apps:  9659\n"
     ]
    }
   ],
   "source": [
    "max_reviews = {}\n",
    "\n",
    "for row in ds_ps:\n",
    "    name = row[0]\n",
    "    n_ratings = float(row[3])\n",
    "    \n",
    "    if name in max_reviews and max_reviews[name] < n_ratings:\n",
    "        max_reviews[name] = n_ratings\n",
    "        \n",
    "    elif name not in max_reviews:\n",
    "        max_reviews[name] = n_ratings\n",
    "        \n",
    "print('Expected no. of apps: ', len(ds_ps) - 1181 )\n",
    "print('\\n')\n",
    "print('Actual no. of apps: ', len(max_reviews))\n",
    "\n",
    "    "
   ]
  },
  {
   "cell_type": "markdown",
   "metadata": {},
   "source": [
    "Now, to remove the duplicate entries from our playstore dataset, wel'll loop through each row of our datset, isolate the name of each app and the number of reviews it has recieved, and save them in seperate variables.\n",
    "\n",
    "We'll then compare the reviews of each app to the number of reviews we have stored in dictionary max_reviews and if \n",
    "\n",
    "1) they turn out to be equal, \n",
    "\n",
    "2) and the name of that paricular app issnt alredy stored in the initially defined empty list: already_added,\n",
    "\n",
    "we'll save the whole entry to an empty list android.\n",
    "\n",
    "After storing the entry into this list, we'll add the name of the app to already_added so that moving forward we don't include additional entries of that particular app in our anylysis. "
   ]
  },
  {
   "cell_type": "code",
   "execution_count": 11,
   "metadata": {
    "collapsed": false
   },
   "outputs": [
    {
     "name": "stdout",
     "output_type": "stream",
     "text": [
      "9658\n",
      "\n",
      "\n",
      "First 2 rows of cleaned datset:  \n",
      "\n",
      "[['U Launcher Lite – FREE Live Cool Themes, Hide Apps', 'ART_AND_DESIGN', '4.7', '87510', '8.7M', '5,000,000+', 'Free', '0', 'Everyone', 'Art & Design', 'August 1, 2018', '1.2.4', '4.0.3 and up'], ['Sketch - Draw & Paint', 'ART_AND_DESIGN', '4.5', '215644', '25M', '50,000,000+', 'Free', '0', 'Teen', 'Art & Design', 'June 8, 2018', 'Varies with device', '4.2 and up']] \n",
      "\n"
     ]
    }
   ],
   "source": [
    "android = []\n",
    "already_added = []\n",
    "\n",
    "for element in ds_ps[1:]:\n",
    "    name = element[0]\n",
    "    n_reviews = float(element[3])\n",
    "    \n",
    "    if n_reviews == max_reviews[name] and name not in already_added:\n",
    "        android.append(element)\n",
    "        already_added.append(name)        \n",
    "        \n",
    "        \n",
    "print(len(android))\n",
    "print('\\n')\n",
    "\n",
    "print('First 2 rows of cleaned datset: ', '\\n')\n",
    "print(android[:2], '\\n')\n",
    "\n",
    "        "
   ]
  },
  {
   "cell_type": "markdown",
   "metadata": {
    "collapsed": true
   },
   "source": [
    "Let's name android and ds_as as android and ios respectively to make our code easier to understand,\n"
   ]
  },
  {
   "cell_type": "code",
   "execution_count": 12,
   "metadata": {
    "collapsed": true
   },
   "outputs": [],
   "source": [
    "android = android\n",
    "ios = ds_as"
   ]
  },
  {
   "cell_type": "markdown",
   "metadata": {},
   "source": [
    "We'll now filter out the non-english apps from out datasets to narrow our focus to english apps only - since these are the only apps we're interested to analyse. \n",
    "\n",
    "To do that we'll write a function that takes string in as an argument and breaks it down into its constituent characters and their corresponsing ASCII numbers.\n",
    "\n"
   ]
  },
  {
   "cell_type": "code",
   "execution_count": 13,
   "metadata": {
    "collapsed": false
   },
   "outputs": [],
   "source": [
    "def name_checker(string):\n",
    "    count = 0\n",
    "    for element in string:\n",
    "        if ord(element) > 127:\n",
    "            count += 1\n",
    "          \n",
    "    if count > 3:\n",
    "        return False\n",
    "    \n",
    "    return True\n",
    "\n",
    "# for element in android:\n",
    "#     name_sorter(element[0])"
   ]
  },
  {
   "cell_type": "code",
   "execution_count": 14,
   "metadata": {
    "collapsed": false
   },
   "outputs": [
    {
     "name": "stdout",
     "output_type": "stream",
     "text": [
      "True\n",
      "True\n",
      "False\n"
     ]
    }
   ],
   "source": [
    "print(name_checker('Instachat 😜'))\n",
    "print(name_checker('Docs To Go™ Free Office Suite'))\n",
    "print(name_checker('爱奇艺PPS -《欢乐颂2》电视剧热播'))"
   ]
  },
  {
   "cell_type": "code",
   "execution_count": 15,
   "metadata": {
    "collapsed": false
   },
   "outputs": [
    {
     "name": "stdout",
     "output_type": "stream",
     "text": [
      "9658\n",
      "7197\n",
      "Total no. of english apps in play store: 9613\n",
      "Total no. of english apps in app store: 6183\n"
     ]
    }
   ],
   "source": [
    "print(len(android))\n",
    "print(len(ios))\n",
    "\n",
    "new_android = []\n",
    "new_ios = []\n",
    "\n",
    "for app in android:\n",
    "    name = app[0]\n",
    "    if name_checker(name) == True:\n",
    "        new_android.append(app)\n",
    "        \n",
    "for app in ios:\n",
    "    name = app[1]\n",
    "    if name_checker(name) == True:\n",
    "        new_ios.append(app)\n",
    "\n",
    "\n",
    "print('Total no. of english apps in play store:', len(new_android))\n",
    "print('Total no. of english apps in app store:', len(new_ios))"
   ]
  },
  {
   "cell_type": "markdown",
   "metadata": {},
   "source": [
    "Now, in order to filter out those apps that require users to pay to download or use them, we'll write a function. The function takes in the dataset and the index for price entry in each app row, and out puts a lists of lists that only contains the free apps from the original dataset. "
   ]
  },
  {
   "cell_type": "code",
   "execution_count": 16,
   "metadata": {
    "collapsed": true
   },
   "outputs": [],
   "source": [
    "def free_apps(dataset, price_index):\n",
    "    \n",
    "    free_apps = []\n",
    "    \n",
    "    for app in dataset:\n",
    "        price = app[price_index]\n",
    "        \n",
    "        if price == '0' or price == '0.0' or price == 'Free':\n",
    "            free_apps.append(app)\n",
    "            \n",
    "    return free_apps\n",
    "            \n",
    "        "
   ]
  },
  {
   "cell_type": "code",
   "execution_count": 17,
   "metadata": {
    "collapsed": false
   },
   "outputs": [
    {
     "name": "stdout",
     "output_type": "stream",
     "text": [
      "6183\n",
      "9613\n",
      "free english apps in app store: 3222\n",
      "free english apps in play store: 8863\n"
     ]
    }
   ],
   "source": [
    "print(len(new_ios))\n",
    "print(len(new_android))\n",
    "\n",
    "free_ios = free_apps(new_ios, 4)\n",
    "free_android = free_apps(new_android, 7)\n",
    "\n",
    "print('free english apps in app store:', len(free_ios))\n",
    "print('free english apps in play store:', len(free_android))\n",
    "\n",
    "final_ios = free_ios\n",
    "final_android = free_android"
   ]
  },
  {
   "cell_type": "markdown",
   "metadata": {
    "collapsed": true
   },
   "source": [
    "**Analysis**\n",
    "\n",
    "Our validation criterion for developing new apps is to,\n",
    "\n",
    "1. first build a minimal android version of the app and add it to gogle play.\n",
    "2. if the app gets a god response from the user, develop it further.\n",
    "3. if the app is profitable after 6 months, we create an ios version of the app and add to to the App Store. \n",
    "\n",
    "Since we're interested primarily in apps that are popular on both play store and app store, we'll try to get a sense of the genre (and a few other factors) that are most popular.  "
   ]
  },
  {
   "cell_type": "code",
   "execution_count": 18,
   "metadata": {
    "collapsed": false
   },
   "outputs": [
    {
     "name": "stdout",
     "output_type": "stream",
     "text": [
      "['App', 'Category', 'Rating', 'Reviews', 'Size', 'Installs', 'Type', 'Price', 'Content Rating', 'Genres', 'Last Updated', 'Current Ver', 'Android Ver'] ['Photo Editor & Candy Camera & Grid & ScrapBook', 'ART_AND_DESIGN', '4.1', '159', '19M', '10,000+', 'Free', '0', 'Everyone', 'Art & Design', 'January 7, 2018', '1.0.0', '4.0.3 and up']\n",
      "\n",
      "\n",
      "['id', 'track_name', 'size_bytes', 'currency', 'price', 'rating_count_tot', 'rating_count_ver', 'user_rating', 'user_rating_ver', 'ver', 'cont_rating', 'prime_genre', 'sup_devices.num', 'ipadSc_urls.num', 'lang.num', 'vpp_lic'] ['284882215', 'Facebook', '389879808', 'USD', '0.0', '2974676', '212', '3.5', '3.5', '95.0', '4+', 'Social Networking', '37', '1', '29', '1']\n"
     ]
    }
   ],
   "source": [
    "print(ds_ps_org[0], ds_ps_org[1])\n",
    "print('\\n')\n",
    "print(ds_as_org[0], ds_as_org[1])"
   ]
  },
  {
   "cell_type": "code",
   "execution_count": 32,
   "metadata": {
    "collapsed": false
   },
   "outputs": [],
   "source": [
    "def frq_table_maker(dataset, index):\n",
    "    \n",
    "    table = {}\n",
    "    total = 0 \n",
    "    \n",
    "    for app in dataset:\n",
    "        total += 1\n",
    "        category = app[index]\n",
    "\n",
    "        if category in table:\n",
    "            table[category] += 1\n",
    "        else:\n",
    "            table[category] = 1\n",
    "     \n",
    "        \n",
    "    for key in table:\n",
    "        table[key] = (table[key] / total) * 100\n",
    "    \n",
    "    return table"
   ]
  },
  {
   "cell_type": "code",
   "execution_count": 46,
   "metadata": {
    "collapsed": true
   },
   "outputs": [],
   "source": [
    "def sorted_list_generator(dataset, index):\n",
    "    table = frq_table_maker(dataset, index)\n",
    "    a_list = []\n",
    "    for key in table:\n",
    "        key_value_as_tuple = (table[key], key)\n",
    "        a_list.append(key_value_as_tuple)\n",
    "        \n",
    "    sorted_list = sorted(a_list, reverse = True)\n",
    "    \n",
    "    for item in sorted_list:\n",
    "        print(item[1], ':', item[0])\n",
    "    "
   ]
  },
  {
   "cell_type": "code",
   "execution_count": 53,
   "metadata": {
    "collapsed": false
   },
   "outputs": [
    {
     "name": "stdout",
     "output_type": "stream",
     "text": [
      "Games : 58.16263190564867\n",
      "Entertainment : 7.883302296710118\n",
      "Photo & Video : 4.9658597144630665\n",
      "Education : 3.662321539416512\n",
      "Social Networking : 3.2898820608317814\n",
      "Shopping : 2.60707635009311\n",
      "Utilities : 2.5139664804469275\n",
      "Sports : 2.1415270018621975\n",
      "Music : 2.0484171322160147\n",
      "Health & Fitness : 2.0173805090006205\n",
      "Productivity : 1.7380509000620732\n",
      "Lifestyle : 1.5828677839851024\n",
      "News : 1.3345747982619491\n",
      "Travel : 1.2414649286157666\n",
      "Finance : 1.1173184357541899\n",
      "Weather : 0.8690254500310366\n",
      "Food & Drink : 0.8069522036002483\n",
      "Reference : 0.5586592178770949\n",
      "Business : 0.5276225946617008\n",
      "Book : 0.4345127250155183\n",
      "Navigation : 0.186219739292365\n",
      "Medical : 0.186219739292365\n",
      "Catalogs : 0.12414649286157665\n"
     ]
    }
   ],
   "source": [
    "sorted_list_generator(final_ios, 11)"
   ]
  },
  {
   "cell_type": "code",
   "execution_count": 54,
   "metadata": {
    "collapsed": false
   },
   "outputs": [
    {
     "name": "stdout",
     "output_type": "stream",
     "text": [
      "FAMILY : 18.910075595170937\n",
      "GAME : 9.725826469592688\n",
      "TOOLS : 8.462146000225657\n",
      "BUSINESS : 4.592124562789123\n",
      "LIFESTYLE : 3.9038700214374367\n",
      "PRODUCTIVITY : 3.8925871601038025\n",
      "FINANCE : 3.7007785174320205\n",
      "MEDICAL : 3.5315355974275078\n",
      "SPORTS : 3.396141261423897\n",
      "PERSONALIZATION : 3.317161232088458\n",
      "COMMUNICATION : 3.2381812027530184\n",
      "HEALTH_AND_FITNESS : 3.0802211440821394\n",
      "PHOTOGRAPHY : 2.944826808078529\n",
      "NEWS_AND_MAGAZINES : 2.798149610741284\n",
      "SOCIAL : 2.6627552747376737\n",
      "TRAVEL_AND_LOCAL : 2.335552296062281\n",
      "SHOPPING : 2.245289405393208\n",
      "BOOKS_AND_REFERENCE : 2.1437436533904997\n",
      "DATING : 1.8616721200496444\n",
      "VIDEO_PLAYERS : 1.7939749520478394\n",
      "MAPS_AND_NAVIGATION : 1.399074805370642\n",
      "FOOD_AND_DRINK : 1.241114746699763\n",
      "EDUCATION : 1.1621347173643235\n",
      "ENTERTAINMENT : 0.9590432133589079\n",
      "LIBRARIES_AND_DEMO : 0.9364774906916393\n",
      "AUTO_AND_VEHICLES : 0.9251946293580051\n",
      "HOUSE_AND_HOME : 0.8236488773552973\n",
      "WEATHER : 0.8010831546880289\n",
      "EVENTS : 0.7108202640189552\n",
      "PARENTING : 0.6544059573507841\n",
      "ART_AND_DESIGN : 0.6318402346835158\n",
      "COMICS : 0.6205573733498815\n",
      "BEAUTY : 0.5979916506826132\n"
     ]
    }
   ],
   "source": [
    "sorted_list_generator(final_android, 1)\n"
   ]
  },
  {
   "cell_type": "code",
   "execution_count": 55,
   "metadata": {
    "collapsed": false
   },
   "outputs": [
    {
     "name": "stdout",
     "output_type": "stream",
     "text": [
      "Tools : 8.450863138892023\n",
      "Entertainment : 6.070179397495204\n",
      "Education : 5.348076272142616\n",
      "Business : 4.592124562789123\n",
      "Productivity : 3.8925871601038025\n",
      "Lifestyle : 3.8925871601038025\n",
      "Finance : 3.7007785174320205\n",
      "Medical : 3.5315355974275078\n",
      "Sports : 3.463838429425702\n",
      "Personalization : 3.317161232088458\n",
      "Communication : 3.2381812027530184\n",
      "Action : 3.102786866749408\n",
      "Health & Fitness : 3.0802211440821394\n",
      "Photography : 2.944826808078529\n",
      "News & Magazines : 2.798149610741284\n",
      "Social : 2.6627552747376737\n",
      "Travel & Local : 2.324269434728647\n",
      "Shopping : 2.245289405393208\n",
      "Books & Reference : 2.1437436533904997\n",
      "Simulation : 2.042197901387792\n",
      "Dating : 1.8616721200496444\n",
      "Arcade : 1.8503892587160102\n",
      "Video Players & Editors : 1.771409229380571\n",
      "Casual : 1.7601263680469368\n",
      "Maps & Navigation : 1.399074805370642\n",
      "Food & Drink : 1.241114746699763\n",
      "Puzzle : 1.128286133363421\n",
      "Racing : 0.9928917973598104\n",
      "Role Playing : 0.9364774906916393\n",
      "Libraries & Demo : 0.9364774906916393\n",
      "Auto & Vehicles : 0.9251946293580051\n",
      "Strategy : 0.9139117680243709\n",
      "House & Home : 0.8236488773552973\n",
      "Weather : 0.8010831546880289\n",
      "Events : 0.7108202640189552\n",
      "Adventure : 0.6769716800180525\n",
      "Comics : 0.6092745120162473\n",
      "Beauty : 0.5979916506826132\n",
      "Art & Design : 0.5867087893489789\n",
      "Parenting : 0.4964458986799052\n",
      "Card : 0.4513144533453684\n",
      "Casino : 0.42874873067809993\n",
      "Trivia : 0.4174658693444658\n",
      "Educational;Education : 0.3949001466771973\n",
      "Board : 0.38361728534356315\n",
      "Educational : 0.37233442400992894\n",
      "Education;Education : 0.33848584000902626\n",
      "Word : 0.25950581067358686\n",
      "Casual;Pretend Play : 0.2369400880063184\n",
      "Music : 0.20309150400541578\n",
      "Racing;Action & Adventure : 0.16924292000451313\n",
      "Puzzle;Brain Games : 0.16924292000451313\n",
      "Entertainment;Music & Video : 0.16924292000451313\n",
      "Casual;Brain Games : 0.1353943360036105\n",
      "Casual;Action & Adventure : 0.1353943360036105\n",
      "Arcade;Action & Adventure : 0.1241114746699763\n",
      "Action;Action & Adventure : 0.10154575200270789\n",
      "Educational;Pretend Play : 0.09026289066907367\n",
      "Simulation;Action & Adventure : 0.07898002933543948\n",
      "Parenting;Education : 0.07898002933543948\n",
      "Entertainment;Brain Games : 0.07898002933543948\n",
      "Board;Brain Games : 0.07898002933543948\n",
      "Parenting;Music & Video : 0.06769716800180525\n",
      "Educational;Brain Games : 0.06769716800180525\n",
      "Casual;Creativity : 0.06769716800180525\n",
      "Art & Design;Creativity : 0.06769716800180525\n",
      "Education;Pretend Play : 0.05641430666817105\n",
      "Role Playing;Pretend Play : 0.045131445334536835\n",
      "Education;Creativity : 0.045131445334536835\n",
      "Role Playing;Action & Adventure : 0.033848584000902626\n",
      "Puzzle;Action & Adventure : 0.033848584000902626\n",
      "Entertainment;Creativity : 0.033848584000902626\n",
      "Entertainment;Action & Adventure : 0.033848584000902626\n",
      "Educational;Creativity : 0.033848584000902626\n",
      "Educational;Action & Adventure : 0.033848584000902626\n",
      "Education;Music & Video : 0.033848584000902626\n",
      "Education;Brain Games : 0.033848584000902626\n",
      "Education;Action & Adventure : 0.033848584000902626\n",
      "Adventure;Action & Adventure : 0.033848584000902626\n",
      "Video Players & Editors;Music & Video : 0.022565722667268417\n",
      "Sports;Action & Adventure : 0.022565722667268417\n",
      "Simulation;Pretend Play : 0.022565722667268417\n",
      "Puzzle;Creativity : 0.022565722667268417\n",
      "Music;Music & Video : 0.022565722667268417\n",
      "Entertainment;Pretend Play : 0.022565722667268417\n",
      "Casual;Education : 0.022565722667268417\n",
      "Board;Action & Adventure : 0.022565722667268417\n",
      "Video Players & Editors;Creativity : 0.011282861333634209\n",
      "Trivia;Education : 0.011282861333634209\n",
      "Travel & Local;Action & Adventure : 0.011282861333634209\n",
      "Tools;Education : 0.011282861333634209\n",
      "Strategy;Education : 0.011282861333634209\n",
      "Strategy;Creativity : 0.011282861333634209\n",
      "Strategy;Action & Adventure : 0.011282861333634209\n",
      "Simulation;Education : 0.011282861333634209\n",
      "Role Playing;Brain Games : 0.011282861333634209\n",
      "Racing;Pretend Play : 0.011282861333634209\n",
      "Puzzle;Education : 0.011282861333634209\n",
      "Parenting;Brain Games : 0.011282861333634209\n",
      "Music & Audio;Music & Video : 0.011282861333634209\n",
      "Lifestyle;Pretend Play : 0.011282861333634209\n",
      "Lifestyle;Education : 0.011282861333634209\n",
      "Health & Fitness;Education : 0.011282861333634209\n",
      "Health & Fitness;Action & Adventure : 0.011282861333634209\n",
      "Entertainment;Education : 0.011282861333634209\n",
      "Communication;Creativity : 0.011282861333634209\n",
      "Comics;Creativity : 0.011282861333634209\n",
      "Casual;Music & Video : 0.011282861333634209\n",
      "Card;Action & Adventure : 0.011282861333634209\n",
      "Books & Reference;Education : 0.011282861333634209\n",
      "Art & Design;Pretend Play : 0.011282861333634209\n",
      "Art & Design;Action & Adventure : 0.011282861333634209\n",
      "Arcade;Pretend Play : 0.011282861333634209\n",
      "Adventure;Education : 0.011282861333634209\n"
     ]
    }
   ],
   "source": [
    "sorted_list_generator(final_android, 9)"
   ]
  },
  {
   "cell_type": "code",
   "execution_count": 56,
   "metadata": {
    "collapsed": true
   },
   "outputs": [],
   "source": [
    "def frq_finder(dataset, index):\n",
    "    \n",
    "    table = {}\n",
    "    total = 0 \n",
    "    \n",
    "    for app in dataset:\n",
    "        total += 1\n",
    "        category = app[index]\n",
    "\n",
    "        if category in table:\n",
    "            table[category] += 1\n",
    "        else:\n",
    "            table[category] = 1\n",
    "    return table"
   ]
  },
  {
   "cell_type": "code",
   "execution_count": 63,
   "metadata": {
    "collapsed": false
   },
   "outputs": [
    {
     "name": "stdout",
     "output_type": "stream",
     "text": [
      "{'Entertainment': 254, 'Games': 1874, 'Business': 17, 'Productivity': 56, 'Book': 14, 'Finance': 36, 'Catalogs': 4, 'Travel': 40, 'Utilities': 81, 'Health & Fitness': 65, 'Lifestyle': 51, 'Reference': 18, 'News': 43, 'Social Networking': 106, 'Music': 66, 'Weather': 28, 'Shopping': 84, 'Sports': 69, 'Navigation': 6, 'Food & Drink': 26, 'Photo & Video': 160, 'Medical': 6, 'Education': 118}\n"
     ]
    }
   ],
   "source": [
    "ios_table = frq_finder(final_ios, 11)\n",
    "print(ios_table)"
   ]
  },
  {
   "cell_type": "code",
   "execution_count": 73,
   "metadata": {
    "collapsed": false
   },
   "outputs": [
    {
     "name": "stdout",
     "output_type": "stream",
     "text": [
      "Photo & Video 25550.41252420917\n",
      "Medical 25502.206829896906\n",
      "Food & Drink 25392.964942137507\n",
      "Navigation 25322.06353021978\n",
      "Shopping 25249.803665844203\n",
      "Weather 25198.851798038504\n",
      "Sports 25196.59566414315\n",
      "Music 24920.587889908256\n",
      "Education 24824.74239602731\n",
      "Social Networking 24116.228281308762\n",
      "Reference 22162.255378486057\n",
      "News 22146.85703094399\n",
      "Travel 21965.018300653595\n",
      "Health & Fitness 21891.654649733715\n",
      "Finance 21885.361617059083\n",
      "Catalogs 21853.643015521066\n",
      "Utilities 21853.180976430976\n",
      "Lifestyle 21781.020465489568\n",
      "Games 21743.206766917294\n",
      "Book 21729.617607223478\n",
      "Business 21630.253146853145\n",
      "Productivity 21614.940481599275\n",
      "Entertainment 14029.830708661417\n"
     ]
    }
   ],
   "source": [
    "total = 0\n",
    "len_column = 0\n",
    "tuple_list = []\n",
    "\n",
    "for key in ios_table:\n",
    "    \n",
    "    for app in final_ios:\n",
    "        \n",
    "        if key == app[11]:\n",
    "            len_column += 1\n",
    "            total += float(app[5])\n",
    "            \n",
    "    avg_rating = ((total / len_column), key)\n",
    "    tuple_list.append(avg_rating)\n",
    "    \n",
    "    sorted_avg_rating = sorted(tuple_list, reverse = True)\n",
    "    \n",
    "for item in sorted_avg_rating:\n",
    "    print(item[1], item[0])"
   ]
  },
  {
   "cell_type": "code",
   "execution_count": 75,
   "metadata": {
    "collapsed": false
   },
   "outputs": [
    {
     "name": "stdout",
     "output_type": "stream",
     "text": [
      "{'VIDEO_PLAYERS': 159, 'AUTO_AND_VEHICLES': 82, 'COMMUNICATION': 287, 'COMICS': 55, 'SOCIAL': 236, 'BUSINESS': 407, 'FINANCE': 328, 'WEATHER': 71, 'LIFESTYLE': 346, 'BOOKS_AND_REFERENCE': 190, 'SPORTS': 301, 'PHOTOGRAPHY': 261, 'GAME': 862, 'SHOPPING': 199, 'NEWS_AND_MAGAZINES': 248, 'FOOD_AND_DRINK': 110, 'MAPS_AND_NAVIGATION': 124, 'ENTERTAINMENT': 85, 'EVENTS': 63, 'TRAVEL_AND_LOCAL': 207, 'TOOLS': 750, 'PERSONALIZATION': 294, 'LIBRARIES_AND_DEMO': 83, 'DATING': 165, 'EDUCATION': 103, 'PRODUCTIVITY': 345, 'FAMILY': 1676, 'HEALTH_AND_FITNESS': 273, 'ART_AND_DESIGN': 56, 'HOUSE_AND_HOME': 73, 'PARENTING': 58, 'BEAUTY': 53, 'MEDICAL': 313}\n"
     ]
    }
   ],
   "source": [
    "android_table = frq_finder(final_android, 1)\n",
    "print(android_table)"
   ]
  },
  {
   "cell_type": "code",
   "execution_count": 79,
   "metadata": {
    "collapsed": false
   },
   "outputs": [
    {
     "name": "stdout",
     "output_type": "stream",
     "text": [
      "COMMUNICATION 38456119.167247385\n",
      "VIDEO_PLAYERS 24727872.452830188\n",
      "SOCIAL 23253652.127118643\n",
      "PHOTOGRAPHY 17840110.40229885\n",
      "PRODUCTIVITY 16787331.344927534\n",
      "GAME 15588015.603248259\n",
      "TRAVEL_AND_LOCAL 13984077.710144928\n",
      "ENTERTAINMENT 11640705.88235294\n",
      "TOOLS 10801391.298666667\n",
      "NEWS_AND_MAGAZINES 9549178.467741935\n",
      "BOOKS_AND_REFERENCE 8767811.894736841\n",
      "SHOPPING 7036877.311557789\n",
      "PERSONALIZATION 5201482.6122448975\n",
      "WEATHER 5074486.197183099\n",
      "HEALTH_AND_FITNESS 4188821.9853479853\n",
      "MAPS_AND_NAVIGATION 4056941.7741935486\n",
      "FAMILY 3695641.8198090694\n",
      "SPORTS 3638640.1428571427\n",
      "ART_AND_DESIGN 2021626.7857142857\n",
      "FOOD_AND_DRINK 1924897.7363636363\n",
      "EDUCATION 1833495.145631068\n",
      "BUSINESS 1712290.1474201474\n",
      "LIFESTYLE 1437816.2687861272\n",
      "FINANCE 1387692.475609756\n",
      "HOUSE_AND_HOME 1331540.5616438356\n",
      "DATING 854028.8303030303\n",
      "COMICS 817657.2727272727\n",
      "AUTO_AND_VEHICLES 647317.8170731707\n",
      "LIBRARIES_AND_DEMO 638503.734939759\n",
      "PARENTING 542603.6206896552\n",
      "BEAUTY 513151.88679245283\n",
      "EVENTS 253542.22222222222\n",
      "MEDICAL 120550.61980830671\n"
     ]
    }
   ],
   "source": [
    "list_of_tuples = []\n",
    "\n",
    "for key in android_table:\n",
    "    \n",
    "    len_category = 0\n",
    "    total = 0\n",
    "    \n",
    "    for app in final_android:\n",
    "        \n",
    "        if key == app[1]:\n",
    "            len_category += 1\n",
    "            string = app[5].replace('+', '')\n",
    "            string = string.replace(',', '')\n",
    "            total += float(string)\n",
    "        \n",
    "        \n",
    "    key_value_tuple = (total / len_category, key)\n",
    "    list_of_tuples.append(key_value_tuple)\n",
    "    sorted_list_of_tuples = sorted(list_of_tuples, reverse = True)\n",
    "    \n",
    "for item in sorted_list_of_tuples:\n",
    "    \n",
    "    print(item[1], item[0])"
   ]
  },
  {
   "cell_type": "code",
   "execution_count": null,
   "metadata": {
    "collapsed": true
   },
   "outputs": [],
   "source": []
  }
 ],
 "metadata": {
  "kernelspec": {
   "display_name": "Python 3",
   "language": "python",
   "name": "python3"
  },
  "language_info": {
   "codemirror_mode": {
    "name": "ipython",
    "version": 3
   },
   "file_extension": ".py",
   "mimetype": "text/x-python",
   "name": "python",
   "nbconvert_exporter": "python",
   "pygments_lexer": "ipython3",
   "version": "3.4.3"
  }
 },
 "nbformat": 4,
 "nbformat_minor": 2
}
